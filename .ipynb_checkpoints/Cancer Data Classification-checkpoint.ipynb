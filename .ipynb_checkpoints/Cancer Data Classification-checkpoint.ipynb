{
 "cells": [
  {
   "cell_type": "code",
   "execution_count": 2,
   "metadata": {},
   "outputs": [],
   "source": [
    "import pandas as pd\n",
    "import numpy as np\n",
    "import matplotlib.pyplot as plt\n",
    "%matplotlib inline"
   ]
  },
  {
   "cell_type": "code",
   "execution_count": 3,
   "metadata": {},
   "outputs": [],
   "source": [
    "import seaborn as sns"
   ]
  },
  {
   "cell_type": "code",
   "execution_count": 4,
   "metadata": {},
   "outputs": [],
   "source": [
    "from sklearn.datasets import load_breast_cancer"
   ]
  },
  {
   "cell_type": "code",
   "execution_count": 5,
   "metadata": {},
   "outputs": [
    {
     "data": {
      "text/plain": [
       "sklearn.utils.Bunch"
      ]
     },
     "execution_count": 5,
     "metadata": {},
     "output_type": "execute_result"
    }
   ],
   "source": [
    "cancer = load_breast_cancer()\n",
    "type(cancer)"
   ]
  },
  {
   "cell_type": "code",
   "execution_count": 6,
   "metadata": {},
   "outputs": [
    {
     "data": {
      "text/plain": [
       "dict_keys(['data', 'target', 'target_names', 'DESCR', 'feature_names', 'filename'])"
      ]
     },
     "execution_count": 6,
     "metadata": {},
     "output_type": "execute_result"
    }
   ],
   "source": [
    "cancer.keys()"
   ]
  },
  {
   "cell_type": "code",
   "execution_count": 7,
   "metadata": {},
   "outputs": [],
   "source": [
    "cancer_data = pd.DataFrame(data=cancer.data)\n",
    "cancer_data['target'] = cancer.target"
   ]
  },
  {
   "cell_type": "code",
   "execution_count": 8,
   "metadata": {},
   "outputs": [],
   "source": [
    "#cancer_data.head()"
   ]
  },
  {
   "cell_type": "code",
   "execution_count": 9,
   "metadata": {},
   "outputs": [
    {
     "name": "stdout",
     "output_type": "stream",
     "text": [
      "<class 'pandas.core.frame.DataFrame'>\n",
      "RangeIndex: 569 entries, 0 to 568\n",
      "Data columns (total 31 columns):\n",
      "0         569 non-null float64\n",
      "1         569 non-null float64\n",
      "2         569 non-null float64\n",
      "3         569 non-null float64\n",
      "4         569 non-null float64\n",
      "5         569 non-null float64\n",
      "6         569 non-null float64\n",
      "7         569 non-null float64\n",
      "8         569 non-null float64\n",
      "9         569 non-null float64\n",
      "10        569 non-null float64\n",
      "11        569 non-null float64\n",
      "12        569 non-null float64\n",
      "13        569 non-null float64\n",
      "14        569 non-null float64\n",
      "15        569 non-null float64\n",
      "16        569 non-null float64\n",
      "17        569 non-null float64\n",
      "18        569 non-null float64\n",
      "19        569 non-null float64\n",
      "20        569 non-null float64\n",
      "21        569 non-null float64\n",
      "22        569 non-null float64\n",
      "23        569 non-null float64\n",
      "24        569 non-null float64\n",
      "25        569 non-null float64\n",
      "26        569 non-null float64\n",
      "27        569 non-null float64\n",
      "28        569 non-null float64\n",
      "29        569 non-null float64\n",
      "target    569 non-null int32\n",
      "dtypes: float64(30), int32(1)\n",
      "memory usage: 135.7 KB\n"
     ]
    }
   ],
   "source": [
    "cancer_data.info()"
   ]
  },
  {
   "cell_type": "code",
   "execution_count": 10,
   "metadata": {},
   "outputs": [
    {
     "data": {
      "text/plain": [
       "(569, 31)"
      ]
     },
     "execution_count": 10,
     "metadata": {},
     "output_type": "execute_result"
    }
   ],
   "source": [
    "cancer_data.shape"
   ]
  },
  {
   "cell_type": "code",
   "execution_count": 11,
   "metadata": {},
   "outputs": [],
   "source": [
    "from sklearn.model_selection import train_test_split"
   ]
  },
  {
   "cell_type": "code",
   "execution_count": 13,
   "metadata": {},
   "outputs": [],
   "source": [
    "X_train,X_test,y_train,y_test = train_test_split(cancer_data.drop('target',axis=1),cancer_data['target'],random_state=101,test_size=0.25)"
   ]
  },
  {
   "cell_type": "code",
   "execution_count": 14,
   "metadata": {},
   "outputs": [
    {
     "name": "stdout",
     "output_type": "stream",
     "text": [
      "Details of Train & Test Data : \n",
      "===================================\n",
      "Shape of X_train :  (426, 30)\n",
      "===================================\n",
      "Shape of X_test :  (143, 30)\n",
      "===================================\n",
      "Shape of y_train :  (426,)\n",
      "===================================\n",
      "Shape of y_test :  (143,)\n",
      "===================================\n"
     ]
    }
   ],
   "source": [
    "print(\"Details of Train & Test Data : \")\n",
    "print(\"===================================\")\n",
    "print(\"Shape of X_train : \",X_train.shape)\n",
    "print(\"===================================\")\n",
    "print(\"Shape of X_test : \",X_test.shape)\n",
    "print(\"===================================\")\n",
    "print(\"Shape of y_train : \",y_train.shape)\n",
    "print(\"===================================\")\n",
    "print(\"Shape of y_test : \",y_test.shape)\n",
    "print(\"===================================\")"
   ]
  },
  {
   "cell_type": "markdown",
   "metadata": {},
   "source": [
    "<h3 style=\"text-align:center\">---------------------------------------------------------------------<br><br>KNeighborsClassifier<br><br>---------------------------------------------------------------------</h3>"
   ]
  },
  {
   "cell_type": "code",
   "execution_count": 16,
   "metadata": {},
   "outputs": [],
   "source": [
    "from sklearn.neighbors import KNeighborsClassifier"
   ]
  },
  {
   "cell_type": "code",
   "execution_count": 17,
   "metadata": {},
   "outputs": [
    {
     "name": "stdout",
     "output_type": "stream",
     "text": [
      "\n",
      "Model Score for n_neighbors :1\n",
      "===============================\n",
      "Train Score : 100.000 %\n",
      "Test Score : 95.804 %\n",
      "\n",
      "Model Score for n_neighbors :2\n",
      "===============================\n",
      "Train Score : 95.540 %\n",
      "Test Score : 93.007 %\n",
      "\n",
      "Model Score for n_neighbors :3\n",
      "===============================\n",
      "Train Score : 94.601 %\n",
      "Test Score : 94.406 %\n",
      "\n",
      "Model Score for n_neighbors :4\n",
      "===============================\n",
      "Train Score : 94.601 %\n",
      "Test Score : 93.706 %\n",
      "\n",
      "Model Score for n_neighbors :5\n",
      "===============================\n",
      "Train Score : 93.897 %\n",
      "Test Score : 94.406 %\n",
      "\n",
      "Model Score for n_neighbors :6\n",
      "===============================\n",
      "Train Score : 94.836 %\n",
      "Test Score : 93.706 %\n",
      "\n",
      "Model Score for n_neighbors :7\n",
      "===============================\n",
      "Train Score : 93.897 %\n",
      "Test Score : 95.105 %\n",
      "\n",
      "Model Score for n_neighbors :8\n",
      "===============================\n",
      "Train Score : 94.366 %\n",
      "Test Score : 95.105 %\n",
      "\n",
      "Model Score for n_neighbors :9\n",
      "===============================\n",
      "Train Score : 93.427 %\n",
      "Test Score : 95.105 %\n",
      "\n",
      "Model Score for n_neighbors :10\n",
      "===============================\n",
      "Train Score : 93.427 %\n",
      "Test Score : 95.105 %\n",
      "\n",
      "Model Score for n_neighbors :11\n",
      "===============================\n",
      "Train Score : 93.662 %\n",
      "Test Score : 95.105 %\n",
      "\n",
      "Model Score for n_neighbors :12\n",
      "===============================\n",
      "Train Score : 93.427 %\n",
      "Test Score : 95.105 %\n",
      "\n",
      "Model Score for n_neighbors :13\n",
      "===============================\n",
      "Train Score : 93.662 %\n",
      "Test Score : 94.406 %\n",
      "\n",
      "Model Score for n_neighbors :14\n",
      "===============================\n",
      "Train Score : 93.427 %\n",
      "Test Score : 95.105 %\n",
      "\n",
      "Model Score for n_neighbors :15\n",
      "===============================\n",
      "Train Score : 92.488 %\n",
      "Test Score : 94.406 %\n",
      "\n",
      "Model Score for n_neighbors :16\n",
      "===============================\n",
      "Train Score : 92.488 %\n",
      "Test Score : 94.406 %\n",
      "\n",
      "Model Score for n_neighbors :17\n",
      "===============================\n",
      "Train Score : 92.958 %\n",
      "Test Score : 95.105 %\n",
      "\n",
      "Model Score for n_neighbors :18\n",
      "===============================\n",
      "Train Score : 92.958 %\n",
      "Test Score : 95.105 %\n",
      "\n",
      "Model Score for n_neighbors :19\n",
      "===============================\n",
      "Train Score : 92.958 %\n",
      "Test Score : 95.105 %\n",
      "\n",
      "Model Score for n_neighbors :20\n",
      "===============================\n",
      "Train Score : 93.192 %\n",
      "Test Score : 95.105 %\n"
     ]
    }
   ],
   "source": [
    "test_score = []\n",
    "train_score = []\n",
    "for i in range(1,21):\n",
    "    clf = KNeighborsClassifier(n_neighbors=i)\n",
    "    clf.fit(X_train,y_train)\n",
    "    \n",
    "    print(\"\\nModel Score for n_neighbors :%d\\n===============================\"%(i))\n",
    "    print(\"Train Score : %.3f %%\"%(clf.score(X_train,y_train) * 100))\n",
    "    print(\"Test Score : %.3f %%\"%(clf.score(X_test,y_test) * 100))\n",
    "    train_score.append(clf.score(X_train,y_train))\n",
    "    test_score.append(clf.score(X_test,y_test))"
   ]
  },
  {
   "cell_type": "code",
   "execution_count": 20,
   "metadata": {},
   "outputs": [
    {
     "data": {
      "text/plain": [
       "<matplotlib.legend.Legend at 0x2a53a9c7518>"
      ]
     },
     "execution_count": 20,
     "metadata": {},
     "output_type": "execute_result"
    },
    {
     "data": {
      "image/png": "[encoded data removed]",
      "text/plain": [
       "<Figure size 720x432 with 1 Axes>"
      ]
     },
     "metadata": {
      "needs_background": "light"
     },
     "output_type": "display_data"
    }
   ],
   "source": [
    "plt.figure(figsize=(10,6))\n",
    "\n",
    "plt.plot(list(range(1,21)) , train_score , 'o-',label='Train')\n",
    "plt.plot(list(range(1,21)) , test_score , 'o--',label='Test')\n",
    "plt.xticks(list(range(1,21)))\n",
    "plt.xlabel(\"N_neighbors\")\n",
    "plt.ylabel(\"Score\")\n",
    "plt.xlim([0.8,20])\n",
    "plt.legend()"
   ]
  },
  {
   "cell_type": "code",
   "execution_count": null,
   "metadata": {},
   "outputs": [],
   "source": []
  },
  {
   "cell_type": "code",
   "execution_count": null,
   "metadata": {},
   "outputs": [],
   "source": []
  }
 ],
 "metadata": {
  "kernelspec": {
   "display_name": "Python 3",
   "language": "python",
   "name": "python3"
  },
  "language_info": {
   "codemirror_mode": {
    "name": "ipython",
    "version": 3
   },
   "file_extension": ".py",
   "mimetype": "text/x-python",
   "name": "python",
   "nbconvert_exporter": "python",
   "pygments_lexer": "ipython3",
   "version": "3.7.3"
  }
 },
 "nbformat": 4,
 "nbformat_minor": 2
}
